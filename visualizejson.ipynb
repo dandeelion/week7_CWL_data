{
 "cells": [
  {
   "cell_type": "code",
   "execution_count": null,
   "metadata": {},
   "outputs": [],
   "source": [
    "#NOTE:\n",
    "\n",
    "#if you just use plt you'll get a memory leak (fig, ax = suplots(1,1))\n",
    "    #matplotlib doesn't \"clean up after itself\" and uses up more memory than is available\n",
    "#at END:\n",
    "#    plt.cla()\n",
    "#    plt.clf()\n",
    "#    plt.close()"
   ]
  },
  {
   "cell_type": "code",
   "execution_count": 2,
   "metadata": {},
   "outputs": [
    {
     "data": {
      "text/plain": [
       "'/home/vagrant/work/week7'"
      ]
     },
     "execution_count": 2,
     "metadata": {},
     "output_type": "execute_result"
    }
   ],
   "source": [
    "import os\n",
    "cwd = os.getcwd()\n",
    "cwd"
   ]
  },
  {
   "cell_type": "markdown",
   "metadata": {},
   "source": [
    "## Now, loop through each JSON of each directory..."
   ]
  },
  {
   "cell_type": "code",
   "execution_count": 1,
   "metadata": {},
   "outputs": [],
   "source": [
    "from matplotlib.backends.backend_agg import FigureCanvasAgg as FigureCanvas\n",
    "from matplotlib.figure import Figure\n",
    "import matplotlib.pyplot as plt\n",
    "import glob\n",
    "import os\n",
    "import ujson\n",
    "\n",
    "struct_dirs =glob.glob('/home/vagrant/work/week7/structured-2018*', recursive=True)\n",
    "\n",
    "maps_path = os.path.join('..','week6','cwl-data','maps','ww2')\n",
    "\n",
    "maps_files = {\n",
    "    'Aachen': 'aachen.png',\n",
    "    'Flak Tower': 'flaktower.png',\n",
    "    'London Docks': 'london_docks.png',\n",
    "    'USS Texas': 'uss_texas.png',\n",
    "    'Ardennes Forest': 'ardennes_forest.png',\n",
    "    'Gibraltar': 'gibraltar.png',\n",
    "    'Sainte Marie du Mont': 'sainte_marie_du_mont.png',\n",
    "    'Valkyrie': 'valkyrie.png'\n",
    "}"
   ]
  },
  {
   "cell_type": "code",
   "execution_count": 2,
   "metadata": {},
   "outputs": [],
   "source": [
    "def mapit(jmatch, map_image, image_file):\n",
    "    death_pos, spawn_pos = {'x': [], 'y': []}, {'x': [], 'y': []}\n",
    "    for evt in jmatch['events']:\n",
    "        if evt['type'] == 'spawn':\n",
    "            spawn_pos['x'].append(evt['data']['pos']['x'])\n",
    "            spawn_pos['y'].append(evt['data']['pos']['y'])\n",
    "        if evt['type'] == 'death':\n",
    "            death_pos['x'].append(evt['data']['pos']['x'])\n",
    "            death_pos['y'].append(evt['data']['pos']['y'])\n",
    " \n",
    "        \n",
    "        \n",
    "        \n",
    "    #fig, ax = plt.subplots(1,1)\n",
    "        \n",
    "    fig=Figure()\n",
    "    FigureCanvas(fig)\n",
    "    ax=fig.subplots(1,1)\n",
    "       \n",
    "    fig.set_figheight(15)\n",
    "    fig.set_figwidth(15)\n",
    "        \n",
    "    maps_pic = plt.imread(map_image)\n",
    "    ax.imshow(maps_pic)\n",
    "    ax.set_facecolor((230/255.0, 230/255.0, 250/255.0))\n",
    "       \n",
    "    ax.scatter(spawn_pos['x'], spawn_pos['y'], color='royalblue')\n",
    "    ax.scatter(death_pos['x'], death_pos['y'], color='red')\n",
    "        \n",
    "    ax.set_title('{}--{}'.format(jmatch['map'], jmatch['mode']))\n",
    "        \n",
    "    fig.savefig(image_file)"
   ]
  },
  {
   "cell_type": "code",
   "execution_count": 7,
   "metadata": {},
   "outputs": [],
   "source": [
    "def parseit(json, image_file):\n",
    "    with open(json, 'r') as j:\n",
    "        singson = j.read()\n",
    "    jdata = ujson.loads(singson)\n",
    "    \n",
    "    map_name = jdata['map']\n",
    "    if map_name in maps_files: \n",
    "        mappa_name = maps_files[map_name]\n",
    "        map_image = os.path.join(maps_path, mappa_name)\n",
    "        mapit(jdata, map_image, image_file)\n",
    "    else:\n",
    "        print('Incoherent mapname in {}'.format(json))"
   ]
  },
  {
   "cell_type": "code",
   "execution_count": 8,
   "metadata": {},
   "outputs": [
    {
     "name": "stdout",
     "output_type": "stream",
     "text": [
      "Incoherent mapname in /home/vagrant/work/week7/structured-2018-03-11-atlanta/structured-1520731201-missing-champs-losers-1-3-map-1.json\n"
     ]
    }
   ],
   "source": [
    "for dirs in struct_dirs:\n",
    "    base_name = os.path.basename(dirs)\n",
    "    png_dirname = 'PNGs_'+base_name\n",
    "    png_dirpath = os.path.join('/home/vagrant/work/week7/', png_dirname)\n",
    "    if not os.path.exists(png_dirpath):\n",
    "        os.makedirs(png_dirpath)\n",
    "    json_files = glob.glob(os.path.join(dirs, \"*.json\"))\n",
    "    for json in json_files:\n",
    "        jname = os.path.basename(json)\n",
    "        no_j_name = os.path.splitext(jname)[0]\n",
    "        png_name = no_j_name + '.png'\n",
    "        image_file = os.path.join(png_dirpath, png_name)\n",
    "        parseit(json, image_file)"
   ]
  },
  {
   "cell_type": "code",
   "execution_count": null,
   "metadata": {},
   "outputs": [],
   "source": [
    "##use fig.savfig to save the output \n",
    "##need to account for errors that may occur when matching the map name too (one will have '?' for map)"
   ]
  },
  {
   "cell_type": "markdown",
   "metadata": {},
   "source": [
    "## example to turn in\n",
    "structured-1515984523-6592b573-b485-58b0-963e-6be0b4d02f6c.json\n"
   ]
  },
  {
   "cell_type": "code",
   "execution_count": null,
   "metadata": {},
   "outputs": [],
   "source": [
    "#path to cwl-data in current directory \n",
    "#all files already unzipped/untarred \n",
    "\n",
    "EVENT = 'structured-2018-01-14-neworleans/'\n",
    "#EVENT = 'structured-2018-06-17-anaheim/'\n",
    "\n",
    "MATCH = 'structured-1515984523-6592b573-b485-58b0-963e-6be0b4d02f6c.json'\n",
    "#MATCH = 'structured-1529096957-f0a65936-4932-5c7c-a1b5-3a294762b2da.json'\n",
    "\n",
    "maps_path = os.path.join('../','week6/','cwl-data/','maps/','ww2/')\n",
    "\n",
    "maps_files = {\n",
    "    'Aachen': 'aachen.png',\n",
    "    'Flak Tower': 'flaktower.png',\n",
    "    'London Docks': 'london_docks.png',\n",
    "    'USS Texas': 'uss_texas.png',\n",
    "    'Ardennes Forest': 'ardennes_forest.png',\n",
    "    'Gibraltar': 'gibraltar.png',\n",
    "    'Sainte Marie du Mont': 'sainte_marie_du_mont.png',\n",
    "    'Valkyrie': 'valkyrie.png'\n",
    "}"
   ]
  },
  {
   "cell_type": "code",
   "execution_count": null,
   "metadata": {},
   "outputs": [],
   "source": [
    "from matplotlib.backends.backend_agg import FigureCanvasAgg as FigureCanvas\n",
    "from matplotlib.figure import Figure\n",
    "\n",
    "with open('./{}{}'.format(EVENT, MATCH), 'r') as match_file:\n",
    "    match = json.load(match_file)\n",
    "    \n",
    "    death_pos, spawn_pos = {'x': [], 'y': []}, {'x': [], 'y': []}\n",
    "    \n",
    "    events = match['events']\n",
    "    for evnt in events:\n",
    "        if evnt['type'] == 'spawn':\n",
    "            spawn_pos['x'].append(evnt['data']['pos']['x'])\n",
    "            spawn_pos['y'].append(evnt['data']['pos']['y'])\n",
    "        if evnt['type'] == 'death':\n",
    "            death_pos['x'].append(evnt['data']['pos']['x'])\n",
    "            death_pos['y'].append(evnt['data']['pos']['y'])\n",
    "            \n",
    "    maps_name = os.path.join(maps_path, maps_files[match['map']])#finds map in 'maps_files' dict \n",
    "    maps_pic = plt.imread(maps_name)#turns map into array \n",
    "    \n",
    "    #fig, ax = plt.subplots(1,1)#creates a figure with a subplot of nrow=1 and ncol=1\n",
    "    \n",
    "    fig = Figure()\n",
    "    FigureCanvas(fig)\n",
    "    ax=fig.subplots(1,1)\n",
    "    \n",
    "    fig.set_figheight(15)#sets the height of the figure (in inches)\n",
    "    fig.set_figwidth(15)#sets the width of the figure (in inches)\n",
    "   \n",
    "    ax.imshow(maps_pic)#actually plots the map\n",
    "    ax.set_facecolor((230/255.0, 230/255.0, 250/255.0))#changes the background color (haziness around the map)\n",
    "    \n",
    "    ax.scatter(spawn_pos['x'], spawn_pos['y'], color='royalblue')\n",
    "    ax.scatter(death_pos['x'], death_pos['y'], color='red')\n",
    "    \n",
    "    ax.set_title('{}--{}'.format(match['map'], match['mode']))#sets title to (map name, mode name)\n",
    "    \n",
    "    fig.savefig('/home/vagrant/work/week7/structured-1515984523-6592b573-b485-58b0-963e-6be0b4d02f6c.png')\n",
    "    "
   ]
  },
  {
   "cell_type": "code",
   "execution_count": null,
   "metadata": {},
   "outputs": [],
   "source": []
  },
  {
   "cell_type": "code",
   "execution_count": null,
   "metadata": {},
   "outputs": [],
   "source": []
  },
  {
   "cell_type": "code",
   "execution_count": null,
   "metadata": {},
   "outputs": [],
   "source": []
  },
  {
   "cell_type": "code",
   "execution_count": null,
   "metadata": {},
   "outputs": [],
   "source": []
  },
  {
   "cell_type": "code",
   "execution_count": null,
   "metadata": {},
   "outputs": [],
   "source": []
  },
  {
   "cell_type": "code",
   "execution_count": null,
   "metadata": {},
   "outputs": [],
   "source": []
  }
 ],
 "metadata": {
  "kernelspec": {
   "display_name": "Python 3",
   "language": "python",
   "name": "python3"
  },
  "language_info": {
   "codemirror_mode": {
    "name": "ipython",
    "version": 3
   },
   "file_extension": ".py",
   "mimetype": "text/x-python",
   "name": "python",
   "nbconvert_exporter": "python",
   "pygments_lexer": "ipython3",
   "version": "3.7.2"
  }
 },
 "nbformat": 4,
 "nbformat_minor": 2
}
