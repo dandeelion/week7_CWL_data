{
 "cells": [
  {
   "cell_type": "code",
   "execution_count": 2,
   "metadata": {},
   "outputs": [],
   "source": [
    "from hdfs import InsecureClient"
   ]
  },
  {
   "cell_type": "code",
   "execution_count": 3,
   "metadata": {},
   "outputs": [],
   "source": [
    "# log in as the root user\n",
    "client = InsecureClient('http://namenode:50070', user='root')\n",
    "#client.delete('/Users', recursive=True)"
   ]
  },
  {
   "cell_type": "code",
   "execution_count": 12,
   "metadata": {},
   "outputs": [
    {
     "data": {
      "text/plain": [
       "['Users']"
      ]
     },
     "execution_count": 12,
     "metadata": {},
     "output_type": "execute_result"
    }
   ],
   "source": [
    "client.list('/')"
   ]
  },
  {
   "cell_type": "code",
   "execution_count": 5,
   "metadata": {},
   "outputs": [],
   "source": [
    "client.makedirs('/Users')\n",
    "client.makedirs('/Users/vagrant')\n",
    "client.set_owner('/Users/vagrant', owner='vagrant', group='vagrant')"
   ]
  },
  {
   "cell_type": "code",
   "execution_count": null,
   "metadata": {},
   "outputs": [],
   "source": [
    "#upload to hdfs [syntax]\n",
    "\n",
    "#client.upload('destination', 'source')\n",
    "\n",
    "#client.upload('/Users/vagrant/unpack.sh', 'unpack.sh')"
   ]
  },
  {
   "cell_type": "code",
   "execution_count": 8,
   "metadata": {},
   "outputs": [
    {
     "name": "stdout",
     "output_type": "stream",
     "text": [
      "./week7\n"
     ]
    }
   ],
   "source": [
    "import os\n",
    "\n",
    "datadir = os.path.join('./', 'week7')\n",
    "print(datadir)"
   ]
  },
  {
   "cell_type": "code",
   "execution_count": 67,
   "metadata": {},
   "outputs": [
    {
     "data": {
      "text/plain": [
       "['/home/vagrant/work/week7/structured-2018-03-11-atlanta',\n",
       " '/home/vagrant/work/week7/structured-2018-01-14-neworleans',\n",
       " '/home/vagrant/work/week7/structured-2018-04-08-proleague1',\n",
       " '/home/vagrant/work/week7/structured-2018-08-19-champs',\n",
       " '/home/vagrant/work/week7/structured-2018-04-19-relegation',\n",
       " '/home/vagrant/work/week7/structured-2018-04-22-seattle',\n",
       " '/home/vagrant/work/week7/structured-2018-07-29-proleague2',\n",
       " '/home/vagrant/work/week7/structured-2018-06-17-anaheim',\n",
       " '/home/vagrant/work/week7/structured-2018-04-01-birmingham']"
      ]
     },
     "execution_count": 67,
     "metadata": {},
     "output_type": "execute_result"
    }
   ],
   "source": [
    "#figuring out how glob works\n",
    "import glob\n",
    "h =glob.glob('/home/vagrant/work/week7/*structured*', recursive=True)\n",
    "h"
   ]
  },
  {
   "cell_type": "code",
   "execution_count": 68,
   "metadata": {},
   "outputs": [
    {
     "name": "stdout",
     "output_type": "stream",
     "text": [
      "structured-2018-03-11-atlanta\n",
      "structured-2018-01-14-neworleans\n",
      "structured-2018-04-08-proleague1\n",
      "structured-2018-08-19-champs\n",
      "structured-2018-04-19-relegation\n",
      "structured-2018-04-22-seattle\n",
      "structured-2018-07-29-proleague2\n",
      "structured-2018-06-17-anaheim\n",
      "structured-2018-04-01-birmingham\n"
     ]
    }
   ],
   "source": [
    "#good glob I just want the file name\n",
    "for i in h:\n",
    "    print(os.path.basename(i))"
   ]
  },
  {
   "cell_type": "code",
   "execution_count": 86,
   "metadata": {},
   "outputs": [],
   "source": [
    "#How can I make my life the easiest?\n",
    "for i in h:\n",
    "    names = os.path.basename(i)\n",
    "    localdir = os.path.join('/home','vagrant', 'work', 'week7')\n",
    "    names_path = os.path.join(localdir, names)\n",
    "    hdfs_path = os.path.join('/Users/vagrant/',names)\n",
    "    client.upload(hdfs_path, names_path)"
   ]
  },
  {
   "cell_type": "code",
   "execution_count": 80,
   "metadata": {},
   "outputs": [
    {
     "name": "stdout",
     "output_type": "stream",
     "text": [
      "./cwl-data/data/structured/README.md\n"
     ]
    }
   ],
   "source": [
    "datadir = os.path.join('./', 'cwl-data', 'data', 'structured')\n",
    "\n",
    "\n",
    "localpath = os.path.join(datadir, 'README.md')\n",
    "hdfsrpath = '/Users/vagrant/README.md'\n",
    "print (localpath)"
   ]
  },
  {
   "cell_type": "code",
   "execution_count": 88,
   "metadata": {},
   "outputs": [
    {
     "data": {
      "text/plain": [
       "['mydf.csv',\n",
       " 'structured-2018-01-14-neworleans',\n",
       " 'structured-2018-03-11-atlanta',\n",
       " 'structured-2018-04-01-birmingham',\n",
       " 'structured-2018-04-08-proleague1',\n",
       " 'structured-2018-04-19-relegation',\n",
       " 'structured-2018-04-22-seattle',\n",
       " 'structured-2018-06-17-anaheim',\n",
       " 'structured-2018-07-29-proleague2',\n",
       " 'structured-2018-08-19-champs']"
      ]
     },
     "execution_count": 88,
     "metadata": {},
     "output_type": "execute_result"
    }
   ],
   "source": [
    "#SICK IT WORKED!!!\n",
    "client.list('/Users/vagrant')"
   ]
  },
  {
   "cell_type": "code",
   "execution_count": null,
   "metadata": {},
   "outputs": [],
   "source": []
  },
  {
   "cell_type": "code",
   "execution_count": null,
   "metadata": {},
   "outputs": [],
   "source": []
  },
  {
   "cell_type": "code",
   "execution_count": null,
   "metadata": {},
   "outputs": [],
   "source": []
  },
  {
   "cell_type": "code",
   "execution_count": null,
   "metadata": {},
   "outputs": [],
   "source": []
  },
  {
   "cell_type": "code",
   "execution_count": null,
   "metadata": {},
   "outputs": [],
   "source": []
  },
  {
   "cell_type": "code",
   "execution_count": null,
   "metadata": {},
   "outputs": [],
   "source": []
  },
  {
   "cell_type": "code",
   "execution_count": null,
   "metadata": {},
   "outputs": [],
   "source": []
  },
  {
   "cell_type": "code",
   "execution_count": null,
   "metadata": {},
   "outputs": [],
   "source": []
  },
  {
   "cell_type": "code",
   "execution_count": null,
   "metadata": {},
   "outputs": [],
   "source": []
  },
  {
   "cell_type": "code",
   "execution_count": null,
   "metadata": {},
   "outputs": [],
   "source": []
  },
  {
   "cell_type": "code",
   "execution_count": null,
   "metadata": {},
   "outputs": [],
   "source": []
  },
  {
   "cell_type": "code",
   "execution_count": null,
   "metadata": {},
   "outputs": [],
   "source": []
  },
  {
   "cell_type": "code",
   "execution_count": null,
   "metadata": {},
   "outputs": [],
   "source": []
  },
  {
   "cell_type": "code",
   "execution_count": null,
   "metadata": {},
   "outputs": [],
   "source": []
  }
 ],
 "metadata": {
  "kernelspec": {
   "display_name": "Python 3",
   "language": "python",
   "name": "python3"
  },
  "language_info": {
   "codemirror_mode": {
    "name": "ipython",
    "version": 3
   },
   "file_extension": ".py",
   "mimetype": "text/x-python",
   "name": "python",
   "nbconvert_exporter": "python",
   "pygments_lexer": "ipython3",
   "version": "3.7.2"
  }
 },
 "nbformat": 4,
 "nbformat_minor": 2
}
